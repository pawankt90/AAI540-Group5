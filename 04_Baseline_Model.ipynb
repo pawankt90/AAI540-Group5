{
 "cells": [
  {
   "cell_type": "markdown",
   "id": "34b1c3f5-d22c-406b-8c4d-bf93e9a8ca85",
   "metadata": {},
   "source": [
    "# 04 Baseline Model"
   ]
  },
  {
   "cell_type": "code",
   "execution_count": 1,
   "id": "568fb9c8-07c1-4c02-9c4f-fa29b530086c",
   "metadata": {},
   "outputs": [
    {
     "name": "stderr",
     "output_type": "stream",
     "text": [
      "/opt/conda/lib/python3.11/site-packages/pydantic/_internal/_fields.py:192: UserWarning: Field name \"json\" in \"MonitoringDatasetFormat\" shadows an attribute in parent \"Base\"\n",
      "  warnings.warn(\n"
     ]
    },
    {
     "name": "stdout",
     "output_type": "stream",
     "text": [
      "sagemaker.config INFO - Not applying SDK defaults from location: /etc/xdg/sagemaker/config.yaml\n",
      "sagemaker.config INFO - Not applying SDK defaults from location: /home/sagemaker-user/.config/sagemaker/config.yaml\n"
     ]
    }
   ],
   "source": [
    "import pandas as pd\n",
    "import numpy as np\n",
    "import os\n",
    "from sklearn.model_selection import train_test_split\n",
    "from sklearn.linear_model import LinearRegression, LogisticRegression\n",
    "from sklearn.metrics import mean_squared_error, r2_score\n",
    "import joblib\n",
    "import boto3\n",
    "import sagemaker\n",
    "from pyathena import connect\n",
    "import matplotlib.pyplot as plt\n"
   ]
  },
  {
   "cell_type": "code",
   "execution_count": null,
   "id": "7ed314de",
   "metadata": {},
   "outputs": [],
   "source": [
    "\n",
    "import joblib\n",
    "import os\n",
    "\n",
    "baseline_model_path = \"baseline_model.pkl\"\n",
    "\n",
    "# Check if a baseline model exists\n",
    "if os.path.exists(baseline_model_path):\n",
    "    print(\"🔄 Loading existing baseline model for comparison...\")\n",
    "    baseline_model = joblib.load(baseline_model_path)\n",
    "\n",
    "    # Evaluate baseline model on the test set\n",
    "    y_baseline_pred = baseline_model.predict(X_test)\n",
    "    baseline_accuracy = accuracy_score(y_test, y_baseline_pred)\n",
    "\n",
    "    print(f\"📊 Baseline Model Accuracy: {baseline_accuracy:.4f}\")\n",
    "else:\n",
    "    print(\"⚠️ No baseline model found. This will be the first model.\")\n",
    "    baseline_accuracy = 0.0  # Set a low baseline if no previous model exists\n"
   ]
  },
  {
   "cell_type": "code",
   "execution_count": null,
   "id": "5879ba74",
   "metadata": {},
   "outputs": [],
   "source": [
    "\n",
    "import boto3\n",
    "import joblib\n",
    "import os\n",
    "import pandas as pd\n",
    "\n",
    "# Define S3 paths for best model and metrics\n",
    "s3_client = boto3.client(\"s3\")\n",
    "bucket_name = \"<your-s3-bucket>\"  # Replace with your actual bucket\n",
    "model_key = \"best_model.pkl\"\n",
    "metrics_key = \"best_model_metrics.csv\"\n",
    "\n",
    "# Local paths\n",
    "best_model_path = \"best_model.pkl\"\n",
    "best_metrics_path = \"best_model_metrics.csv\"\n",
    "\n",
    "print(\"📦 Storing the initial best model and metrics in S3...\")\n",
    "\n",
    "# Save model locally\n",
    "joblib.dump(model, best_model_path)\n",
    "\n",
    "# Save initial metrics\n",
    "initial_metrics = pd.DataFrame({\"accuracy\": [test_accuracy]})\n",
    "initial_metrics.to_csv(best_metrics_path, index=False)\n",
    "\n",
    "# Upload to S3\n",
    "s3_client.upload_file(best_model_path, bucket_name, model_key)\n",
    "s3_client.upload_file(best_metrics_path, bucket_name, metrics_key)\n",
    "\n",
    "print(\"✅ Initial model and metrics successfully stored in S3.\")\n"
   ]
  },
  {
   "cell_type": "code",
   "execution_count": null,
   "id": "de16e190",
   "metadata": {},
   "outputs": [],
   "source": [
    "\n",
    "import joblib\n",
    "\n",
    "# Load the saved baseline model\n",
    "baseline_model_path = \"baseline_model.pkl\"\n",
    "baseline_model = joblib.load(baseline_model_path)\n",
    "\n",
    "# Evaluate baseline model on the test set\n",
    "y_baseline_pred = baseline_model.predict(X_test)\n",
    "baseline_accuracy = accuracy_score(y_test, y_baseline_pred)\n",
    "\n",
    "print(f\"📊 Baseline Model Accuracy: {baseline_accuracy:.4f}\")\n"
   ]
  },
  {
   "cell_type": "code",
   "execution_count": 2,
   "id": "d4c562df-1025-4a67-b094-77ffd8885731",
   "metadata": {},
   "outputs": [
    {
     "name": "stdout",
     "output_type": "stream",
     "text": [
      "Stored variables and their in-db values:\n",
      "account_id                               -> '607916531205'\n",
      "create_base_csv_athena_db                -> True\n",
      "create_base_csv_athena_table             -> True\n",
      "database_name                            -> 'db_airline_delay_cause'\n",
      "dev_feature_group_name                   -> 'airline_delay_features_dev'\n",
      "dev_feature_store_table                  -> 'airline_delay_features_dev_1739939876'\n",
      "dev_s3_path                              -> 's3://sagemaker-us-east-1-607916531205/data/develo\n",
      "dev_s3_uri                               -> 's3://sagemaker-us-east-1-607916531205/feature-sto\n",
      "dev_table_name                           -> 'development_data'\n",
      "packages_installed                       -> True\n",
      "prod_feature_group_name                  -> 'airline_delay_features_prod'\n",
      "prod_feature_store_table                 -> 'airline_delay_features_prod_1739939953'\n",
      "prod_s3_path                             -> 's3://sagemaker-us-east-1-607916531205/data/produc\n",
      "prod_s3_uri                              -> 's3://sagemaker-us-east-1-607916531205/feature-sto\n",
      "prod_table_name                          -> 'production_data'\n",
      "raw_table_name                           -> 'airline_delay_cause_csv_raw'\n",
      "region                                   -> 'us-east-1'\n",
      "role                                     -> 'arn:aws:iam::607916531205:role/LabRole'\n",
      "s3_csv_private_path                      -> 's3://sagemaker-us-east-1-607916531205/airline-del\n",
      "s3_staging_dir                           -> 's3://sagemaker-us-east-1-607916531205/athena/stag\n",
      "setup_s3_bucket_passed                   -> True\n"
     ]
    }
   ],
   "source": [
    "%store"
   ]
  },
  {
   "cell_type": "markdown",
   "id": "332a2011-8095-495d-ba5d-9194754d176a",
   "metadata": {},
   "source": [
    "# Query Values from Development Database"
   ]
  },
  {
   "cell_type": "code",
   "execution_count": 8,
   "id": "cc90e43f-0826-49bd-851d-c6c582ef82e8",
   "metadata": {},
   "outputs": [
    {
     "name": "stdout",
     "output_type": "stream",
     "text": [
      "Fetching data from Feature Store Table: airline_delay_features_dev_1739939876\n"
     ]
    },
    {
     "name": "stderr",
     "output_type": "stream",
     "text": [
      "/tmp/ipykernel_151/251305686.py:21: UserWarning: pandas only supports SQLAlchemy connectable (engine/connection) or database string URI or sqlite3 DBAPI2 connection. Other DBAPI2 objects are not tested. Please consider using SQLAlchemy.\n",
      "  df = pd.read_sql(query, conn)\n"
     ]
    }
   ],
   "source": [
    "# ✅ Retrieve stored variables\n",
    "%store -r dev_feature_store_table\n",
    "%store -r s3_staging_dir\n",
    "%store -r region\n",
    "\n",
    "import boto3\n",
    "import pandas as pd\n",
    "from pyathena import connect\n",
    "\n",
    "# ✅ Connect to Athena using correct S3 staging directory\n",
    "conn = connect(s3_staging_dir=s3_staging_dir, region_name=region)\n",
    "\n",
    "# ✅ Retrieve all data from Feature Store using Athena\n",
    "def get_feature_store_data(table_name):\n",
    "    print(f\"Fetching data from Feature Store Table: {table_name}\")\n",
    "    \n",
    "    # ✅ Use the correct Athena database for feature store queries\n",
    "    query = f'SELECT * FROM \"sagemaker_featurestore\".\"{table_name}\";'\n",
    "    \n",
    "    # ✅ Execute Athena query and load into Pandas DataFrame\n",
    "    df = pd.read_sql(query, conn)\n",
    "\n",
    "    return df\n",
    "\n",
    "# ✅ Load data from the correct offline Feature Store table\n",
    "df = get_feature_store_data(dev_feature_store_table)\n",
    "\n",
    "# ✅ Define feature columns and target variable\n",
    "features = [\n",
    "    \"arr_flights\", \"arr_del15\", \"carrier_ct\", \"weather_ct\", \"nas_ct\", \n",
    "    \"security_ct\", \"late_aircraft_ct\", \"arr_cancelled\", \"arr_diverted\", \n",
    "    \"arr_delay\", \"carrier_delay\", \"weather_delay\", \"nas_delay\", \n",
    "    \"security_delay\", \"late_aircraft_delay\", \"delay_rate\"\n",
    "]\n",
    "target = \"on_time\"\n",
    "\n",
    "# ✅ Ensure no missing values\n",
    "df = df.dropna()\n"
   ]
  },
  {
   "cell_type": "markdown",
   "id": "7671742a-75af-43d4-b59b-135a117875aa",
   "metadata": {},
   "source": [
    "# Create Linear Regression Baseline Model"
   ]
  },
  {
   "cell_type": "code",
   "execution_count": 10,
   "id": "a9d52aba-2689-4214-905d-68b7cc171391",
   "metadata": {},
   "outputs": [],
   "source": [
    "# Split the dataset into training and testing sets\n",
    "X_train, X_test, y_train, y_test = train_test_split(df[features], df[target], test_size=0.2, random_state=42)\n",
    "\n",
    "# Initialize and train a Linear Regression model\n",
    "model = LinearRegression()\n",
    "model.fit(X_train, y_train)\n",
    "\n",
    "# Make predictions\n",
    "y_train_pred = model.predict(X_train)  # FIX: Add predictions for training set\n",
    "y_test_pred = model.predict(X_test)    # FIX: Use correct variable name\n",
    "\n"
   ]
  },
  {
   "cell_type": "markdown",
   "id": "e2fea5e4",
   "metadata": {},
   "source": [
    "# Evaluate Model Performance"
   ]
  },
  {
   "cell_type": "code",
   "execution_count": 11,
   "id": "803938a7-7559-4c38-a742-91cbbd91ee4e",
   "metadata": {},
   "outputs": [
    {
     "name": "stdout",
     "output_type": "stream",
     "text": [
      "Mean Squared Error: 0.0123\n",
      "R² Score: 0.1019\n"
     ]
    }
   ],
   "source": [
    "mse = mean_squared_error(y_test, y_test_pred)\n",
    "r2 = r2_score(y_test, y_test_pred)\n",
    "\n",
    "print(f\"Mean Squared Error: {mse:.4f}\")\n",
    "print(f\"R² Score: {r2:.4f}\")\n",
    "\n"
   ]
  },
  {
   "cell_type": "markdown",
   "id": "36ddd28f-f6fd-41f8-97bb-befca987a06e",
   "metadata": {},
   "source": [
    "# Visualization"
   ]
  },
  {
   "cell_type": "code",
   "execution_count": 12,
   "id": "c313ba67-faef-40e2-bc7f-c91ffee45a03",
   "metadata": {},
   "outputs": [
    {
     "data": {
      "image/png": "[encoded data removed]",
      "text/plain": [
       "<Figure size 1200x500 with 2 Axes>"
      ]
     },
     "metadata": {},
     "output_type": "display_data"
    }
   ],
   "source": [
    "# Visualization\n",
    "plt.figure(figsize=(12,5))\n",
    "\n",
    "# Training Set\n",
    "plt.subplot(1, 2, 1)\n",
    "plt.scatter(y_train, y_train_pred, alpha=0.5, color='blue')\n",
    "plt.xlabel(\"Actual On-Time\")\n",
    "plt.ylabel(\"Predicted On-Time\")\n",
    "plt.title(\"Training Set Predictions\")\n",
    "plt.grid()\n",
    "\n",
    "# Test Set\n",
    "plt.subplot(1, 2, 2)\n",
    "plt.scatter(y_test, y_test_pred, alpha=0.5, color='red')\n",
    "plt.xlabel(\"Actual On-Time\")\n",
    "plt.ylabel(\"Predicted On-Time\")\n",
    "plt.title(\"Test Set Predictions\")\n",
    "plt.grid()\n",
    "\n",
    "plt.tight_layout()\n",
    "plt.show()"
   ]
  },
  {
   "cell_type": "markdown",
   "id": "b1f806d1",
   "metadata": {},
   "source": [
    "# Store Model"
   ]
  },
  {
   "cell_type": "code",
   "execution_count": 13,
   "id": "b2070bd0-639f-43cb-b911-f5d52dd0e38b",
   "metadata": {},
   "outputs": [
    {
     "name": "stdout",
     "output_type": "stream",
     "text": [
      "Model saved as baseline_model.pkl\n",
      "Stored 'baseline_model_path' (str)\n"
     ]
    }
   ],
   "source": [
    "# Save the model for future use\n",
    "baseline_model_path = \"baseline_model.pkl\"\n",
    "joblib.dump(model, baseline_model_path)\n",
    "print(f\"Model saved as {baseline_model_path}\")\n",
    "%store baseline_model_path"
   ]
  },
  {
   "cell_type": "code",
   "execution_count": null,
   "id": "766369e5",
   "metadata": {},
   "outputs": [],
   "source": [
    "\n",
    "import joblib\n",
    "import json\n",
    "\n",
    "# Define paths for storing model and metrics\n",
    "model_store_path = \"best_model.pkl\"\n",
    "metrics_store_path = \"best_model_metrics.json\"\n",
    "\n",
    "# Save the baseline model as the first \"best model\"\n",
    "joblib.dump(model, model_store_path)\n",
    "print(f\"✅ Baseline model saved as {model_store_path}\")\n",
    "\n",
    "# Store the model's initial metrics\n",
    "baseline_metrics = {\n",
    "    \"accuracy\": test_accuracy\n",
    "}\n",
    "\n",
    "with open(metrics_store_path, \"w\") as f:\n",
    "    json.dump(baseline_metrics, f)\n",
    "\n",
    "print(f\"✅ Baseline model metrics saved as {metrics_store_path}\")\n"
   ]
  },
  {
   "cell_type": "markdown",
   "id": "c666b10c-0b3a-41a3-aa4f-11d0047aeadd",
   "metadata": {},
   "source": [
    "# Try Logistic Regression + Scaling Instead"
   ]
  },
  {
   "cell_type": "code",
   "execution_count": 14,
   "id": "562a1e89-edc1-43f0-96c2-8c5b992df936",
   "metadata": {},
   "outputs": [],
   "source": [
    "from sklearn.model_selection import train_test_split\n",
    "from sklearn.preprocessing import StandardScaler\n",
    "from sklearn.linear_model import LogisticRegression\n",
    "from sklearn.metrics import accuracy_score, confusion_matrix, classification_report\n",
    "import matplotlib.pyplot as plt\n",
    "\n",
    "X_train, X_test, y_train, y_test = train_test_split(df[features], df[target], test_size=0.2, random_state=42)\n",
    "\n",
    "# Scale the features\n",
    "scaler = StandardScaler()\n",
    "X_train_scaled = scaler.fit_transform(X_train)\n",
    "X_test_scaled = scaler.transform(X_test)\n",
    "\n",
    "# Train a Logistic Regression model\n",
    "model = LogisticRegression()\n",
    "model.fit(X_train_scaled, y_train)\n",
    "\n",
    "# Make predictions (use probabilities for better interpretation)\n",
    "y_train_pred_prob = model.predict_proba(X_train_scaled)[:, 1]\n",
    "y_test_pred_prob = model.predict_proba(X_test_scaled)[:, 1]\n",
    "\n",
    "# Convert probabilities to binary (0 or 1) based on a 0.5 threshold\n",
    "y_train_pred = (y_train_pred_prob >= 0.5).astype(int)\n",
    "y_test_pred = (y_test_pred_prob >= 0.5).astype(int)\n"
   ]
  },
  {
   "cell_type": "code",
   "execution_count": 15,
   "id": "306210cc-d934-4c46-91ff-977754b9f289",
   "metadata": {},
   "outputs": [
    {
     "name": "stdout",
     "output_type": "stream",
     "text": [
      "✅ Training Accuracy: 0.9989\n",
      "✅ Testing Accuracy: 0.9988\n",
      "\n",
      "Confusion Matrix (Test Set):\n",
      "[[25708    31]\n",
      " [    0   363]]\n",
      "\n",
      "Classification Report:\n",
      "              precision    recall  f1-score   support\n",
      "\n",
      "           0       1.00      1.00      1.00     25739\n",
      "           1       0.92      1.00      0.96       363\n",
      "\n",
      "    accuracy                           1.00     26102\n",
      "   macro avg       0.96      1.00      0.98     26102\n",
      "weighted avg       1.00      1.00      1.00     26102\n",
      "\n"
     ]
    },
    {
     "data": {
      "image/png": "[encoded data removed]",
      "text/plain": [
       "<Figure size 1200x500 with 2 Axes>"
      ]
     },
     "metadata": {},
     "output_type": "display_data"
    }
   ],
   "source": [
    "# Model Evaluation\n",
    "train_accuracy = accuracy_score(y_train, y_train_pred)\n",
    "test_accuracy = accuracy_score(y_test, y_test_pred)\n",
    "print(f\"✅ Training Accuracy: {train_accuracy:.4f}\")\n",
    "print(f\"✅ Testing Accuracy: {test_accuracy:.4f}\")\n",
    "\n",
    "# Confusion Matrix\n",
    "print(\"\\nConfusion Matrix (Test Set):\")\n",
    "print(confusion_matrix(y_test, y_test_pred))\n",
    "\n",
    "# Classification Report\n",
    "print(\"\\nClassification Report:\")\n",
    "print(classification_report(y_test, y_test_pred))\n",
    "\n",
    "# Visualization\n",
    "plt.figure(figsize=(12,5))\n",
    "\n",
    "# Training Set Predictions\n",
    "plt.subplot(1, 2, 1)\n",
    "plt.scatter(y_train, y_train_pred_prob, alpha=0.5, color='blue')\n",
    "plt.xlabel(\"Actual On-Time\")\n",
    "plt.ylabel(\"Predicted Probability\")\n",
    "plt.title(\"Training Set Predictions\")\n",
    "plt.grid()\n",
    "\n",
    "# Test Set Predictions\n",
    "plt.subplot(1, 2, 2)\n",
    "plt.scatter(y_test, y_test_pred_prob, alpha=0.5, color='red')\n",
    "plt.xlabel(\"Actual On-Time\")\n",
    "plt.ylabel(\"Predicted Probability\")\n",
    "plt.title(\"Test Set Predictions\")\n",
    "plt.grid()\n",
    "\n",
    "plt.tight_layout()\n",
    "plt.show()"
   ]
  },
  {
   "cell_type": "code",
   "execution_count": null,
   "id": "abd2e08c",
   "metadata": {},
   "outputs": [],
   "source": [
    "# Evaluate new model performance\n",
    "new_model_accuracy = accuracy_score(y_test, y_test_pred)\n",
    "\n",
    "print(f\"📊 New Model Accuracy: {new_model_accuracy:.4f}\")\n",
    "\n",
    "# Define a flag file for model readiness\n",
    "flag_path = \"model_ready.flag\"\n",
    "\n",
    "# Compare new model to baseline\n",
    "if new_model_accuracy < baseline_accuracy:\n",
    "    print(\"🚨 New model did not outperform baseline! Failing pipeline.\")\n",
    "    raise ValueError(\"❌ New model is worse than the baseline. Stopping pipeline.\")\n",
    "else:\n",
    "    print(\"✅ New model is better! Proceeding to register the model.\")\n",
    "\n",
    "    # Save a flag to signal the next step\n",
    "    with open(flag_path, \"w\") as f:\n",
    "        f.write(\"ready\")"
   ]
  },
  {
   "cell_type": "code",
   "execution_count": null,
   "id": "e5541490",
   "metadata": {},
   "outputs": [],
   "source": [
    "\n",
    "# Define a performance threshold to keep minimum quality baseline\n",
    "ACCURACY_THRESHOLD = 0.85  # Set desired minimum accuracy\n",
    "\n",
    "# Check model performance\n",
    "if test_accuracy < ACCURACY_THRESHOLD:\n",
    "    print(f\"🚨 Model performance below threshold: {test_accuracy:.4f} < {ACCURACY_THRESHOLD}\")\n",
    "    raise ValueError(\"❌ Model failed to meet the accuracy requirement. Stopping pipeline.\")\n",
    "else:\n",
    "    print(f\"✅ Model passed threshold with {test_accuracy:.4f} accuracy.\")\n"
   ]
  },
  {
   "cell_type": "code",
   "execution_count": 16,
   "id": "5c28065c-ff7f-4ce0-a8ba-ac7bac8a2d26",
   "metadata": {},
   "outputs": [
    {
     "name": "stdout",
     "output_type": "stream",
     "text": [
      "Model saved as baseline_model_logistic.pkl\n",
      "Stored 'baseline_model_logistic_path' (str)\n"
     ]
    }
   ],
   "source": [
    "# Save the model for future use\n",
    "baseline_model_logistic_path = \"baseline_model_logistic.pkl\"\n",
    "joblib.dump(model, baseline_model_logistic_path)\n",
    "print(f\"Model saved as {baseline_model_logistic_path}\")\n",
    "%store baseline_model_logistic_path"
   ]
  },
  {
   "cell_type": "code",
   "execution_count": null,
   "id": "f8edaecc-4d4e-408d-b4ed-85fdc63eaeef",
   "metadata": {},
   "outputs": [],
   "source": []
  }
 ],
 "metadata": {
  "kernelspec": {
   "display_name": "Python 3 (ipykernel)",
   "language": "python",
   "name": "python3"
  },
  "language_info": {
   "codemirror_mode": {
    "name": "ipython",
    "version": 3
   },
   "file_extension": ".py",
   "mimetype": "text/x-python",
   "name": "python",
   "nbconvert_exporter": "python",
   "pygments_lexer": "ipython3",
   "version": "3.11.11"
  }
 },
 "nbformat": 4,
 "nbformat_minor": 5
}
